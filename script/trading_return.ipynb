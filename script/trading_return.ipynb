{
 "cells": [
  {
   "cell_type": "markdown",
   "id": "d43fb055",
   "metadata": {},
   "source": [
    "Trading return"
   ]
  },
  {
   "cell_type": "code",
   "execution_count": null,
   "id": "83c266be",
   "metadata": {},
   "outputs": [],
   "source": [
    "import numpy as np\n",
    "import random\n",
    "import matplotlib.pyplot as plt \n",
    "from price_process import price_paths"
   ]
  },
  {
   "cell_type": "code",
   "execution_count": null,
   "id": "3a09955f",
   "metadata": {},
   "outputs": [],
   "source": [
    "def trading_algo(cash=10000, prices=None):\n",
    "\n",
    "    if prices is None:\n",
    "        prices = price_paths()\n",
    "    \n",
    "    shares = 0\n",
    "    portfolio_values = [cash]\n",
    "\n",
    "    for i in range(1, len(prices)):\n",
    "\n",
    "        price_i = prices[i]\n",
    "        last_price = prices[i-1]\n",
    "\n",
    "        if price_i > last_price and cash >= price_i:\n",
    "            shares_to_buy = cash // price_i\n",
    "            shares += shares_to_buy\n",
    "            cash -= shares_to_buy * price_i\n",
    "        \n",
    "        elif price_i < last_price and shares > 0:\n",
    "            cash += shares * price_i\n",
    "            shares = 0\n",
    "        \n",
    "        portfolio_value = cash + shares * price_i\n",
    "        portfolio_values.append(portfolio_value)\n",
    "    \n",
    "    return portfolio_values\n",
    "\n"
   ]
  }
 ],
 "metadata": {
  "kernelspec": {
   "display_name": "Python 3",
   "language": "python",
   "name": "python3"
  },
  "language_info": {
   "codemirror_mode": {
    "name": "ipython",
    "version": 3
   },
   "file_extension": ".py",
   "mimetype": "text/x-python",
   "name": "python",
   "nbconvert_exporter": "python",
   "pygments_lexer": "ipython3",
   "version": "3.11.1"
  }
 },
 "nbformat": 4,
 "nbformat_minor": 5
}
